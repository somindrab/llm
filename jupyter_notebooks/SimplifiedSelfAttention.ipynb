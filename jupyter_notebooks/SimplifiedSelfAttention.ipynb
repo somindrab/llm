{
 "cells": [
  {
   "cell_type": "code",
   "execution_count": 17,
   "id": "70cead5b-1428-4f19-9410-9030bbe0f87d",
   "metadata": {},
   "outputs": [
    {
     "data": {
      "text/plain": [
       "tensor([[0.4300, 0.1500, 0.8900],\n",
       "        [0.5500, 0.8700, 0.6600],\n",
       "        [0.5700, 0.8500, 0.6400],\n",
       "        [0.2200, 0.5800, 0.3300],\n",
       "        [0.7700, 0.2500, 0.1000],\n",
       "        [0.0500, 0.8000, 0.5500]])"
      ]
     },
     "execution_count": 17,
     "metadata": {},
     "output_type": "execute_result"
    }
   ],
   "source": [
    "#A very simple example of a sentence that has been encoded in a 3x3 higher dimensional space\n",
    "\n",
    "import torch\n",
    "\n",
    "inputs = torch.tensor(\n",
    "    [[0.43, 0.15, 0.89], # Your     (x^1)\n",
    "   [0.55, 0.87, 0.66], # journey  (x^2)\n",
    "   [0.57, 0.85, 0.64], # starts   (x^3)\n",
    "   [0.22, 0.58, 0.33], # with     (x^4)\n",
    "   [0.77, 0.25, 0.10], # one      (x^5)\n",
    "   [0.05, 0.80, 0.55]] # step     (x^6)\n",
    ")\n",
    "\n",
    "inputs"
   ]
  },
  {
   "cell_type": "raw",
   "id": "97a1b8bc-3154-4a1b-97fc-d23a8add47f1",
   "metadata": {},
   "source": [
    "# At a more general level: this is from physics. We are trying to find the\n",
    "# relative importance of the tokens here, but remember that these are already encoded\n",
    "# in a vector space, and therefore just think of them as vectors.\n",
    "# What we really want to do is figure out the impact or the alignment of one vector \n",
    "# with another. Remember to not think of these as words, but as vectors. The embedding layer\n",
    "# has already been trained with training data and the relative alignment of the tokens are \n",
    "# already represented in their direction in the the vector space.\n",
    "\n",
    "# We just need to do project one vector onto the other, and find out the magnitude of the projection.\n",
    "# That will tell us how well the vectors align in space.\n",
    "# Once again, this is just physics. Orthogonal vectors will produce 0 projections on one another.\n",
    "# Completely aligned vectors will produce full alignments\n",
    "# Dot product."
   ]
  },
  {
   "cell_type": "code",
   "execution_count": 5,
   "id": "6be5ed0c-00e0-4408-b9b9-a1b0428332a2",
   "metadata": {},
   "outputs": [
    {
     "data": {
      "text/plain": [
       "tensor(0.9544)"
      ]
     },
     "execution_count": 5,
     "metadata": {},
     "output_type": "execute_result"
    }
   ],
   "source": [
    "# alignment between the token \"journey\" and the token \"Your\"\n",
    "# this \"alignment\" is a scalar, a projection. \n",
    "# again, just physics.\n",
    "# this is called an attention score\n",
    "\n",
    "attn_score = torch.dot(inputs[0],inputs[1])\n",
    "\n",
    "attn_score\n"
   ]
  },
  {
   "cell_type": "code",
   "execution_count": 12,
   "id": "dceb9b10-e1cf-42cf-811d-08d0d935b86a",
   "metadata": {},
   "outputs": [
    {
     "data": {
      "text/plain": [
       "tensor([0.9995, 1.4950, 1.4570, 0.4937, 0.6654, 0.9450])"
      ]
     },
     "execution_count": 12,
     "metadata": {},
     "output_type": "execute_result"
    }
   ],
   "source": [
    "# attension scores for the second token w.r.t to all other tokens in the sentence\n",
    "\n",
    "query = inputs[1]\n",
    "\n",
    "attn_scores = torch.empty(inputs.shape[0])\n",
    "\n",
    "for i,x_i in enumerate(inputs):\n",
    "    attn_scores[i] = torch.dot(x_i, inputs[i])\n",
    "\n",
    "attn_scores"
   ]
  },
  {
   "cell_type": "code",
   "execution_count": 13,
   "id": "01bb3baa-ab51-4de5-9646-e25514e9f95f",
   "metadata": {},
   "outputs": [
    {
     "data": {
      "text/plain": [
       "tensor([[0.9995, 0.9544, 0.9422, 0.4753, 0.4576, 0.6310],\n",
       "        [0.9544, 1.4950, 1.4754, 0.8434, 0.7070, 1.0865],\n",
       "        [0.9422, 1.4754, 1.4570, 0.8296, 0.7154, 1.0605],\n",
       "        [0.4753, 0.8434, 0.8296, 0.4937, 0.3474, 0.6565],\n",
       "        [0.4576, 0.7070, 0.7154, 0.3474, 0.6654, 0.2935],\n",
       "        [0.6310, 1.0865, 1.0605, 0.6565, 0.2935, 0.9450]])"
      ]
     },
     "execution_count": 13,
     "metadata": {},
     "output_type": "execute_result"
    }
   ],
   "source": [
    "# attension scores of each token w.r.t to all other tokens\n",
    "\n",
    "attn_scores = inputs@inputs.T\n",
    "\n",
    "attn_scores"
   ]
  },
  {
   "cell_type": "code",
   "execution_count": 14,
   "id": "ed068ad6-f2cd-4ed9-b2d4-838daf98a157",
   "metadata": {},
   "outputs": [
    {
     "data": {
      "text/plain": [
       "tensor([[0.2098, 0.2006, 0.1981, 0.1242, 0.1220, 0.1452],\n",
       "        [0.1385, 0.2379, 0.2333, 0.1240, 0.1082, 0.1581],\n",
       "        [0.1390, 0.2369, 0.2326, 0.1242, 0.1108, 0.1565],\n",
       "        [0.1435, 0.2074, 0.2046, 0.1462, 0.1263, 0.1720],\n",
       "        [0.1526, 0.1958, 0.1975, 0.1367, 0.1879, 0.1295],\n",
       "        [0.1385, 0.2184, 0.2128, 0.1420, 0.0988, 0.1896]])"
      ]
     },
     "execution_count": 14,
     "metadata": {},
     "output_type": "execute_result"
    }
   ],
   "source": [
    "# Now this part isn't physics.\n",
    "# It has been found that model training is much more efficiency and higher quality with\n",
    "# normalized scores. These normalized scores are called weights.\n",
    "# Attention Weights.\n",
    "# There are easy and naive ways to normalize. We will use softmax.\n",
    "# Moreso because because we will later use a very cool property of softmax wherein we can obtain\n",
    "# probababilities. But let's not get ahead of ourselves right now.\n",
    "\n",
    "attn_weights = torch.softmax(attn_scores, dim=-1)\n",
    "\n",
    "attn_weights"
   ]
  },
  {
   "cell_type": "code",
   "execution_count": 15,
   "id": "173d8599-4b21-4b9f-925c-d51ca3e8d9c2",
   "metadata": {},
   "outputs": [
    {
     "data": {
      "text/plain": [
       "tensor([[0.4421, 0.5931, 0.5790],\n",
       "        [0.4419, 0.6515, 0.5683],\n",
       "        [0.4431, 0.6496, 0.5671],\n",
       "        [0.4304, 0.6298, 0.5510],\n",
       "        [0.4671, 0.5910, 0.5266],\n",
       "        [0.4177, 0.6503, 0.5645]])"
      ]
     },
     "execution_count": 15,
     "metadata": {},
     "output_type": "execute_result"
    }
   ],
   "source": [
    "# Now that we know the relative alignment of each input token with respect to ever other input token\n",
    "# we can compute the context vectors which are the vector composition of the attention weights with each \n",
    "# token, and then vector added together\n",
    "\n",
    "context_vectors = attn_weights @ inputs\n",
    "\n",
    "context_vectors"
   ]
  }
 ],
 "metadata": {
  "kernelspec": {
   "display_name": "Python 3 (ipykernel)",
   "language": "python",
   "name": "python3"
  },
  "language_info": {
   "codemirror_mode": {
    "name": "ipython",
    "version": 3
   },
   "file_extension": ".py",
   "mimetype": "text/x-python",
   "name": "python",
   "nbconvert_exporter": "python",
   "pygments_lexer": "ipython3",
   "version": "3.12.8"
  }
 },
 "nbformat": 4,
 "nbformat_minor": 5
}
