{
 "cells": [
  {
   "cell_type": "markdown",
   "id": "7c0ad052-8495-471a-8f5f-1ef92c4a814b",
   "metadata": {},
   "source": [
    "A comparatively efficienct implementation of a multihead attention class with dropout."
   ]
  },
  {
   "cell_type": "markdown",
   "id": "e8284a8a-e319-4fdb-897f-ae991761116d",
   "metadata": {},
   "source": [
    "In the CausalAttention notebook, the last class implemented is a wrapper that takes multiple Causal Attention modules and then serially projects the input over the trainable weights to get context vectors, which are then stacked together in the output. This is way less efficient due to the number of matrix multiplications is equal to the number of heads. "
   ]
  },
  {
   "cell_type": "markdown",
   "id": "f5bae608-4b8d-4db1-98b8-3b0780895757",
   "metadata": {},
   "source": [
    "Instead, we are going to create matrices that have the Q, K, V weights for all heads in them, multiply once (i.e. do the projections once), and then tease the output apart to get to context vectors from each head. Ofcourse, we will take this all the way this time around and combine the context vectors to represent the context vectors obtained via multihead attention."
   ]
  },
  {
   "cell_type": "code",
   "execution_count": 58,
   "id": "e40a4e90-8d8e-4441-ac7e-07ee847f91ad",
   "metadata": {},
   "outputs": [],
   "source": [
    "import torch\n",
    "import torch.nn as nn\n",
    "\n",
    "class MultiHeadAttention(nn.Module):\n",
    "    def __init__(self, d_in, d_out, context_length, dropout,\n",
    "                 num_heads, qkv_bias=False):\n",
    "        super().__init__()\n",
    "        self.d_in = d_in\n",
    "        self.d_out = d_out\n",
    "        self.num_heads = num_heads\n",
    "        #The number of heads per dimension\n",
    "        self.head_dim = self.d_out // self.num_heads\n",
    "        self.W_query = nn.Linear(d_in, d_out, bias=qkv_bias)\n",
    "        self.W_key = nn.Linear(d_in, d_out, bias=qkv_bias)\n",
    "        self.W_value = nn.Linear(d_in, d_out, bias=qkv_bias)\n",
    "        self.out_proj = nn.Linear(d_out, d_out)\n",
    "        self.dropout = nn.Dropout(dropout)\n",
    "        self.register_buffer(\n",
    "            \"mask\",\n",
    "            torch.triu(torch.ones(context_length, context_length),\n",
    "                       diagonal=1))\n",
    "\n",
    "    def forward(self, x):\n",
    "        b, num_tokens, d_in = x.shape\n",
    "\n",
    "        print(f\"W_key weight shape: {self.W_key.weight.shape}\")\n",
    "        keys = self.W_key(x)\n",
    "        queries = self.W_query(x)\n",
    "        values = self.W_value(x)\n",
    "\n",
    "        print(f\"keys.shape: {keys.shape}\")\n",
    "        \n",
    "        keys = keys.view(b, num_tokens, self.num_heads, self.head_dim)\n",
    "        queries = queries.view(b, num_tokens, self.num_heads, self.head_dim)\n",
    "        values = values.view(b, num_tokens, self.num_heads, self.head_dim)\n",
    "\n",
    "        \n",
    "        print(f\"keys.shape after splitting into heads: {keys.shape}\")\n",
    "\n",
    "        #Now here, we are going to \"rearrange\" the matrices such that we go from\n",
    "        #[b, num_tokens, num_heads, head_dim] -> [b, num_heads, num_tokens, head_dim]\n",
    "        #and this should make a lot of sense because after all, we are trying to process\n",
    "        #multiple heads here, and so arranging this in that hierarchy is what we need to do\n",
    "\n",
    "        keys = keys.transpose(1,2)\n",
    "        queries = queries.transpose(1,2)\n",
    "        values = values.transpose(1,2)\n",
    "\n",
    "        #and now really business as usual. We want to compute the attn weights and context\n",
    "        #vectors, just that we need to remain hyper aware that our matrices are hierarchically\n",
    "        #arranged as batches -> heads -> tokens -> embedded vectors\n",
    "        attn_scores = queries @ keys.transpose(2,3)\n",
    "\n",
    "        mask_bool = self.mask.bool()[:num_tokens, :num_tokens]\n",
    "\n",
    "        attn_scores.masked_fill_(mask_bool, -torch.inf)\n",
    "\n",
    "        #scaled dot product\n",
    "        attn_weights = torch.softmax(attn_scores / keys.shape[-1]**0.5, dim=-1)\n",
    "\n",
    "        #apply the dropout if there is one specified\n",
    "        attn_weights = self.dropout(attn_weights)\n",
    "\n",
    "        #calculate the context vectors\n",
    "        context_vectors = attn_weights @ values\n",
    "\n",
    "        #Now, we want to go back to how we desire the context vectors, i.e.,\n",
    "        #(b, num_tokens, vectors) where all of the vectors from the multiple heads are\n",
    "        #\"combined\" to see the uniform result of multihead processing.\n",
    "        #To get there, we need to start rearranging the hierarchy \n",
    "\n",
    "        context_vectors = context_vectors.transpose(1,2)\n",
    "        #so now this will become (b, tokens, heads, vectors)\n",
    "\n",
    "        context_vectors = context_vectors.contiguous().view(b, num_tokens, self.d_out)\n",
    "        #so now this will become (b, tokens, vectors)\n",
    "\n",
    "        #apply a linear projection that will be useful when this class is used in training\n",
    "        context_vectors = self.out_proj(context_vectors)\n",
    "\n",
    "        return context_vectors\n",
    "        \n",
    "\n",
    "        \n"
   ]
  },
  {
   "cell_type": "code",
   "execution_count": 59,
   "id": "1d909368-5aad-4746-9504-709cb0e738ee",
   "metadata": {},
   "outputs": [
    {
     "data": {
      "text/plain": [
       "torch.Size([8, 1024, 800])"
      ]
     },
     "execution_count": 59,
     "metadata": {},
     "output_type": "execute_result"
    }
   ],
   "source": [
    "#batch size, context length, number of embedded dimensions\n",
    "batch = torch.randn(8, 1024, 800)\n",
    "d_in = batch.shape[2] ## the input embedding size\n",
    "d_out = 400 ## the output embedding size\n",
    "\n",
    "batch.shape"
   ]
  },
  {
   "cell_type": "code",
   "execution_count": 60,
   "id": "658aaa76-46cc-4055-888b-988e7edaef44",
   "metadata": {},
   "outputs": [
    {
     "name": "stdout",
     "output_type": "stream",
     "text": [
      "W_key weight shape: torch.Size([400, 800])\n",
      "keys.shape: torch.Size([8, 1024, 400])\n",
      "keys.shape after splitting into heads: torch.Size([8, 1024, 2, 200])\n"
     ]
    },
    {
     "data": {
      "text/plain": [
       "tensor([[[ 5.3731e-01,  2.0384e-01,  3.5028e-01,  ...,  2.7758e-01,\n",
       "          -3.8424e-02, -5.1152e-02],\n",
       "         [ 3.1804e-02,  3.3741e-01,  5.9904e-02,  ...,  9.1153e-02,\n",
       "           1.8804e-01,  3.5074e-02],\n",
       "         [-2.0838e-01,  2.0049e-01,  4.2469e-02,  ...,  1.8851e-01,\n",
       "           2.5226e-01, -5.1680e-02],\n",
       "         ...,\n",
       "         [-3.9543e-02,  3.3366e-02, -1.7590e-02,  ...,  4.8678e-03,\n",
       "          -4.5569e-02,  3.3840e-02],\n",
       "         [-4.5406e-02,  3.3032e-02, -1.7882e-02,  ...,  6.3432e-04,\n",
       "          -4.0340e-02,  2.9276e-02],\n",
       "         [-4.2710e-02,  4.0721e-02, -8.8204e-03,  ...,  8.4825e-03,\n",
       "          -4.1777e-02,  2.4589e-02]],\n",
       "\n",
       "        [[-1.9143e-02, -3.2137e-01,  7.5531e-01,  ..., -1.8179e-01,\n",
       "           6.0165e-03,  2.6764e-01],\n",
       "         [ 1.4512e-01, -7.8187e-02,  5.1812e-01,  ..., -1.0876e-01,\n",
       "          -1.8792e-01,  1.1768e-01],\n",
       "         [ 1.7365e-01,  8.4582e-02,  4.2504e-01,  ..., -7.4203e-02,\n",
       "          -1.9752e-01, -3.3649e-02],\n",
       "         ...,\n",
       "         [-2.6509e-02,  1.7683e-02, -9.9376e-03,  ..., -1.9871e-02,\n",
       "          -4.0819e-02,  2.1041e-02],\n",
       "         [-2.6140e-02,  2.3898e-02, -7.4696e-03,  ..., -1.2753e-02,\n",
       "          -4.4284e-02,  2.6091e-02],\n",
       "         [-3.5184e-02,  2.3998e-02, -1.0354e-02,  ..., -9.4260e-03,\n",
       "          -2.9723e-02,  3.4181e-02]],\n",
       "\n",
       "        [[-7.1523e-01, -1.5955e-01,  1.7103e-01,  ..., -6.9567e-02,\n",
       "          -3.2583e-01, -4.1408e-01],\n",
       "         [-3.4036e-01, -5.2940e-02,  2.4085e-01,  ...,  4.9021e-02,\n",
       "           1.1325e-01,  6.1818e-02],\n",
       "         [-1.2656e-01,  1.6609e-01,  1.8950e-01,  ..., -2.5530e-02,\n",
       "          -1.4869e-01, -2.0308e-01],\n",
       "         ...,\n",
       "         [-3.7359e-02,  2.8391e-02, -3.3117e-02,  ...,  6.4177e-03,\n",
       "          -3.3595e-02,  5.1223e-02],\n",
       "         [-3.3987e-02,  1.8210e-02, -3.0921e-02,  ...,  3.6107e-03,\n",
       "          -3.9577e-02,  4.4429e-02],\n",
       "         [-2.8291e-02,  2.1366e-02, -2.4576e-02,  ...,  3.2769e-03,\n",
       "          -4.2419e-02,  4.4180e-02]],\n",
       "\n",
       "        ...,\n",
       "\n",
       "        [[ 6.8900e-01,  7.0948e-01, -2.0633e-01,  ..., -3.0871e-01,\n",
       "          -2.5073e-01, -6.3124e-02],\n",
       "         [ 5.9837e-01,  3.0694e-01, -4.6138e-02,  ..., -1.4594e-01,\n",
       "          -1.8673e-01, -1.9923e-01],\n",
       "         [ 5.7330e-01,  2.0813e-01,  3.2513e-01,  ..., -1.5673e-01,\n",
       "          -1.0830e-01,  7.9416e-02],\n",
       "         ...,\n",
       "         [-2.5864e-02,  2.2610e-02, -2.3748e-02,  ..., -1.3662e-02,\n",
       "          -4.3758e-02,  3.3285e-02],\n",
       "         [-2.8849e-02,  8.8459e-03, -2.7781e-03,  ..., -2.6717e-03,\n",
       "          -3.3307e-02,  2.6761e-02],\n",
       "         [-2.3910e-02,  1.5383e-02, -2.6239e-02,  ..., -5.2716e-03,\n",
       "          -2.8678e-02,  2.7546e-02]],\n",
       "\n",
       "        [[-2.0484e-01,  2.7693e-01, -1.1786e-01,  ...,  5.5767e-03,\n",
       "          -2.3754e-01, -1.9976e-01],\n",
       "         [ 8.6349e-02, -6.6348e-02,  8.3017e-02,  ..., -2.4927e-01,\n",
       "           9.2614e-02, -1.6430e-01],\n",
       "         [ 1.6059e-01, -1.2889e-01,  7.8396e-02,  ..., -2.2731e-01,\n",
       "           2.8502e-01, -3.3304e-01],\n",
       "         ...,\n",
       "         [-3.9905e-02,  4.1837e-02,  1.1954e-02,  ..., -3.8062e-02,\n",
       "          -2.8972e-02,  2.5802e-02],\n",
       "         [-4.7952e-02,  4.1180e-02,  9.4929e-03,  ..., -2.9445e-02,\n",
       "          -4.0463e-02,  1.9209e-02],\n",
       "         [-3.8214e-02,  4.3905e-02,  1.7500e-02,  ..., -4.1454e-02,\n",
       "          -3.4092e-02,  2.7852e-02]],\n",
       "\n",
       "        [[ 6.1590e-01, -4.4754e-01, -5.7093e-02,  ..., -5.4400e-01,\n",
       "           3.2852e-01, -5.1063e-02],\n",
       "         [ 2.8884e-01, -3.0783e-01, -1.3865e-01,  ..., -3.5601e-01,\n",
       "           8.7103e-02, -5.5376e-02],\n",
       "         [ 2.7479e-01, -1.1000e-01, -1.7792e-02,  ..., -3.3915e-01,\n",
       "           1.3304e-01,  1.5681e-01],\n",
       "         ...,\n",
       "         [-4.9256e-02,  4.5726e-02, -3.3272e-02,  ...,  5.6825e-03,\n",
       "          -3.9873e-02,  4.1335e-02],\n",
       "         [-4.5480e-02,  4.1140e-02, -1.1922e-02,  ...,  1.1181e-03,\n",
       "          -3.9122e-02,  4.1569e-02],\n",
       "         [-4.8342e-02,  4.7950e-02, -2.6945e-02,  ...,  3.5517e-03,\n",
       "          -4.1777e-02,  3.9825e-02]]], grad_fn=<ViewBackward0>)"
      ]
     },
     "execution_count": 60,
     "metadata": {},
     "output_type": "execute_result"
    }
   ],
   "source": [
    "mha = MultiHeadAttention(d_in, d_out, batch.shape[1], 0, 2)\n",
    "\n",
    "context_vecs = mha(batch)\n",
    "\n",
    "context_vecs.d\n"
   ]
  }
 ],
 "metadata": {
  "kernelspec": {
   "display_name": "Python 3 (ipykernel)",
   "language": "python",
   "name": "python3"
  },
  "language_info": {
   "codemirror_mode": {
    "name": "ipython",
    "version": 3
   },
   "file_extension": ".py",
   "mimetype": "text/x-python",
   "name": "python",
   "nbconvert_exporter": "python",
   "pygments_lexer": "ipython3",
   "version": "3.12.8"
  }
 },
 "nbformat": 4,
 "nbformat_minor": 5
}
