{
 "cells": [
  {
   "cell_type": "code",
   "execution_count": 6,
   "id": "67104599-42e3-4753-b000-5d0a20a97e46",
   "metadata": {},
   "outputs": [
    {
     "name": "stdout",
     "output_type": "stream",
     "text": [
      "tensor([[0.1921,   -inf,   -inf,   -inf,   -inf,   -inf],\n",
      "        [0.2041, 0.1659,   -inf,   -inf,   -inf,   -inf],\n",
      "        [0.2036, 0.1659, 0.1662,   -inf,   -inf,   -inf],\n",
      "        [0.1869, 0.1667, 0.1668, 0.1571,   -inf,   -inf],\n",
      "        [0.1830, 0.1669, 0.1670, 0.1588, 0.1658,   -inf],\n",
      "        [0.1935, 0.1663, 0.1666, 0.1542, 0.1666, 0.1529]])\n"
     ]
    },
    {
     "data": {
      "text/plain": [
       "tensor([[1.0000, 0.0000, 0.0000, 0.0000, 0.0000, 0.0000],\n",
       "        [0.5068, 0.4932, 0.0000, 0.0000, 0.0000, 0.0000],\n",
       "        [0.3393, 0.3303, 0.3304, 0.0000, 0.0000, 0.0000],\n",
       "        [0.2531, 0.2495, 0.2495, 0.2478, 0.0000, 0.0000],\n",
       "        [0.2021, 0.1998, 0.1998, 0.1987, 0.1996, 0.0000],\n",
       "        [0.1698, 0.1666, 0.1666, 0.1652, 0.1666, 0.1650]])"
      ]
     },
     "execution_count": 6,
     "metadata": {},
     "output_type": "execute_result"
    }
   ],
   "source": [
    "#masking\n",
    "\n",
    "import torch\n",
    "\n",
    "attn_weights = torch.tensor([[0.1921, 0.1646, 0.1652, 0.1550, 0.1721, 0.1510],\n",
    "        [0.2041, 0.1659, 0.1662, 0.1496, 0.1665, 0.1477],\n",
    "        [0.2036, 0.1659, 0.1662, 0.1498, 0.1664, 0.1480],\n",
    "        [0.1869, 0.1667, 0.1668, 0.1571, 0.1661, 0.1564],\n",
    "        [0.1830, 0.1669, 0.1670, 0.1588, 0.1658, 0.1585],\n",
    "        [0.1935, 0.1663, 0.1666, 0.1542, 0.1666, 0.1529]])\n",
    "\n",
    "mask = torch.triu(torch.ones(6,6), diagonal=1)\n",
    "mask\n",
    "\n",
    "masked = attn_weights.masked_fill(mask.bool(),-torch.inf)\n",
    "print(masked)\n",
    "\n",
    "attn_weights_normalized = torch.softmax(masked/2**0.5,dim=-1)\n",
    "attn_weights_normalized\n"
   ]
  },
  {
   "cell_type": "code",
   "execution_count": 7,
   "id": "5f7c1972-6762-4692-a09a-d07ab01bbc5f",
   "metadata": {},
   "outputs": [
    {
     "data": {
      "text/plain": [
       "tensor([[2., 2., 2., 2., 2., 2.],\n",
       "        [0., 2., 0., 0., 0., 0.],\n",
       "        [0., 0., 2., 0., 2., 0.],\n",
       "        [2., 2., 0., 0., 0., 2.],\n",
       "        [2., 0., 0., 0., 0., 2.],\n",
       "        [0., 2., 0., 0., 0., 0.]])"
      ]
     },
     "execution_count": 7,
     "metadata": {},
     "output_type": "execute_result"
    }
   ],
   "source": [
    "#using torch.nn.Dropout\n",
    "\n",
    "torch.manual_seed(123)\n",
    "dropout = torch.nn.Dropout(0.5)\n",
    "example = torch.ones(6,6)\n",
    "dropout(example)"
   ]
  }
 ],
 "metadata": {
  "kernelspec": {
   "display_name": "Python 3 (ipykernel)",
   "language": "python",
   "name": "python3"
  },
  "language_info": {
   "codemirror_mode": {
    "name": "ipython",
    "version": 3
   },
   "file_extension": ".py",
   "mimetype": "text/x-python",
   "name": "python",
   "nbconvert_exporter": "python",
   "pygments_lexer": "ipython3",
   "version": "3.12.8"
  }
 },
 "nbformat": 4,
 "nbformat_minor": 5
}
