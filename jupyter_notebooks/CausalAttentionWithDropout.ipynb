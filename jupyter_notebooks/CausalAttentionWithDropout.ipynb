{
 "cells": [
  {
   "cell_type": "markdown",
   "id": "1aa77ee5-3a4b-4b58-80fc-f168308c8cdb",
   "metadata": {},
   "source": [
    "* A simple single head attention class that implents causal self attention with dropout\n",
    "* And then a naive implementation of a multihead attention class by \"stacking\" together single head attention modules"
   ]
  },
  {
   "cell_type": "code",
   "execution_count": 8,
   "id": "b572de94-d1d0-4632-b501-1e0d52cd3107",
   "metadata": {},
   "outputs": [],
   "source": [
    "import torch\n",
    "import torch.nn as nn\n",
    "\n",
    "class CausalAttention(nn.Module):\n",
    "    def __init__(self, d_in, d_out, context_length,\n",
    "                 dropout, qkv_bias=False):\n",
    "        super().__init__()\n",
    "        self.W_query = nn.Linear(d_in, d_out, qkv_bias)\n",
    "        self.W_key = nn.Linear(d_in, d_out, qkv_bias)\n",
    "        self.W_value = nn.Linear(d_in, d_out, qkv_bias)\n",
    "        self.dropout = nn.Dropout(dropout)\n",
    "        self.register_buffer(\n",
    "            'mask',\n",
    "            torch.triu(torch.ones(context_length, context_length),\n",
    "            diagonal=1))\n",
    "\n",
    "    def forward(self, x):\n",
    "        b, num_tokens, d_in = x.shape\n",
    "        queries = self.W_query(x)\n",
    "        keys = self.W_key(x)\n",
    "        values = self.W_value(x)\n",
    "\n",
    "        attn_scores = queries @ keys.transpose(1,2)\n",
    "        attn_scores.masked_fill(self.mask.bool()[:num_tokens, :num_tokens], -torch.inf)\n",
    "        attn_weights = torch.softmax(attn_scores/keys.shape[-1]**0.5, dim=-1)\n",
    "        attn_weights = self.dropout(attn_weights)\n",
    "        context_vectors = attn_weights@values\n",
    "        return context_vectors\n"
   ]
  },
  {
   "cell_type": "code",
   "execution_count": 11,
   "id": "20046a09-5f55-428d-bea0-ad4375cacc3a",
   "metadata": {},
   "outputs": [
    {
     "data": {
      "text/plain": [
       "(torch.Size([2, 6, 2]),\n",
       " tensor([[[ 0.0441, -0.3124],\n",
       "          [ 0.0449, -0.3138],\n",
       "          [ 0.0450, -0.3137],\n",
       "          [ 0.0506, -0.3147],\n",
       "          [ 0.0504, -0.3132],\n",
       "          [ 0.0489, -0.3152]],\n",
       " \n",
       "         [[ 0.0441, -0.3124],\n",
       "          [ 0.0449, -0.3138],\n",
       "          [ 0.0450, -0.3137],\n",
       "          [ 0.0506, -0.3147],\n",
       "          [ 0.0504, -0.3132],\n",
       "          [ 0.0489, -0.3152]]], grad_fn=<UnsafeViewBackward0>))"
      ]
     },
     "execution_count": 11,
     "metadata": {},
     "output_type": "execute_result"
    }
   ],
   "source": [
    "#create a batch of inputs by stacking our inputs over itself\n",
    "inputs = torch.tensor(\n",
    "    [[0.43, 0.15, 0.89], # Your     (x^1)\n",
    "   [0.55, 0.87, 0.66], # journey  (x^2)\n",
    "   [0.57, 0.85, 0.64], # starts   (x^3)\n",
    "   [0.22, 0.58, 0.33], # with     (x^4)\n",
    "   [0.77, 0.25, 0.10], # one      (x^5)\n",
    "   [0.05, 0.80, 0.55]] # step     (x^6)\n",
    ")\n",
    "\n",
    "d_in = inputs.shape[1] ## the input embedding size\n",
    "d_out = 2 ## the output embedding size\n",
    "\n",
    "batch = torch.stack((inputs,inputs),dim=0)\n",
    "\n",
    "causal_attn = CausalAttention(d_in, d_out, batch.shape[1], 0)\n",
    "context_vecs = causal_attn(batch)\n",
    "context_vecs.shape, context_vecs"
   ]
  },
  {
   "cell_type": "markdown",
   "id": "8bd6b7cc-3eb1-4d93-82b8-9c84e92cf36d",
   "metadata": {},
   "source": [
    "A multihead attention class with dropout that wraps the Causal Attention class from above"
   ]
  },
  {
   "cell_type": "code",
   "execution_count": 14,
   "id": "f7cf9fe5-b5a5-41f6-9901-d15910566283",
   "metadata": {},
   "outputs": [],
   "source": [
    "class MultiHeadAttention(nn.Module):\n",
    "    def __init__(self, d_in, d_out, context_length, \n",
    "                 dropout, num_heads, qkv_bias=False):\n",
    "        super().__init__()\n",
    "        self.heads = nn.ModuleList(\n",
    "                        [CausalAttention(d_in, d_out, context_length,\n",
    "                                            dropout, qkv_bias)\n",
    "                        for _ in range(num_heads)])\n",
    "\n",
    "    def forward(self, x):\n",
    "        return torch.cat([head(x) for head in self.heads], dim=-1)\n"
   ]
  },
  {
   "cell_type": "code",
   "execution_count": 17,
   "id": "da8b0d8f-704d-4b66-8157-23e25890ce1a",
   "metadata": {},
   "outputs": [
    {
     "data": {
      "text/plain": [
       "(torch.Size([2, 6, 4]),\n",
       " tensor([[[-0.5337, -0.1051,  0.5085,  0.3508],\n",
       "          [-0.5323, -0.1080,  0.5084,  0.3508],\n",
       "          [-0.5323, -0.1079,  0.5084,  0.3506],\n",
       "          [-0.5297, -0.1076,  0.5074,  0.3471],\n",
       "          [-0.5311, -0.1066,  0.5076,  0.3446],\n",
       "          [-0.5299, -0.1081,  0.5077,  0.3493]],\n",
       " \n",
       "         [[-0.5337, -0.1051,  0.5085,  0.3508],\n",
       "          [-0.5323, -0.1080,  0.5084,  0.3508],\n",
       "          [-0.5323, -0.1079,  0.5084,  0.3506],\n",
       "          [-0.5297, -0.1076,  0.5074,  0.3471],\n",
       "          [-0.5311, -0.1066,  0.5076,  0.3446],\n",
       "          [-0.5299, -0.1081,  0.5077,  0.3493]]], grad_fn=<CatBackward0>))"
      ]
     },
     "execution_count": 17,
     "metadata": {},
     "output_type": "execute_result"
    }
   ],
   "source": [
    "torch.manual_seed(123)\n",
    "multi_head_attn = MultiHeadAttention(d_in, d_out, batch.shape[1], 0, 2)\n",
    "\n",
    "context_vecs = multi_head_attn(batch)\n",
    "context_vecs.shape, context_vecs"
   ]
  }
 ],
 "metadata": {
  "kernelspec": {
   "display_name": "Python 3 (ipykernel)",
   "language": "python",
   "name": "python3"
  },
  "language_info": {
   "codemirror_mode": {
    "name": "ipython",
    "version": 3
   },
   "file_extension": ".py",
   "mimetype": "text/x-python",
   "name": "python",
   "nbconvert_exporter": "python",
   "pygments_lexer": "ipython3",
   "version": "3.12.8"
  }
 },
 "nbformat": 4,
 "nbformat_minor": 5
}
